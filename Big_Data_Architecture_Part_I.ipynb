{
  "nbformat": 4,
  "nbformat_minor": 0,
  "metadata": {
    "colab": {
      "name": "Big Data Architecture Part I",
      "version": "0.3.2",
      "provenance": [],
      "collapsed_sections": [],
      "include_colab_link": true
    },
    "kernelspec": {
      "name": "python3",
      "display_name": "Python 3"
    }
  },
  "cells": [
    {
      "cell_type": "markdown",
      "metadata": {
        "id": "view-in-github",
        "colab_type": "text"
      },
      "source": [
        "<a href=\"https://colab.research.google.com/github/CesarPortales/BootCamp/blob/master/Big_Data_Architecture_Part_I.ipynb\" target=\"_parent\"><img src=\"https://colab.research.google.com/assets/colab-badge.svg\" alt=\"Open In Colab\"/></a>"
      ]
    },
    {
      "cell_type": "code",
      "metadata": {
        "id": "W9KYG4TKyTQ_",
        "colab_type": "code",
        "outputId": "08f09d4b-0b89-455f-e29c-fee0ce9f4ed0",
        "colab": {
          "base_uri": "https://localhost:8080/",
          "height": 34
        }
      },
      "source": [
        "1 + 1"
      ],
      "execution_count": 0,
      "outputs": [
        {
          "output_type": "execute_result",
          "data": {
            "text/plain": [
              "2"
            ]
          },
          "metadata": {
            "tags": []
          },
          "execution_count": 3
        }
      ]
    },
    {
      "cell_type": "markdown",
      "metadata": {
        "id": "PbCJKQpg0JRn",
        "colab_type": "text"
      },
      "source": [
        "# BIG DATA ARCHITECTURE\n",
        "\n",
        "## Contenido\n",
        "\n",
        "![texto alternativo](http://i.imgur.com/fU7l5qz.jpg)\n",
        "https://www.mindmeister.com/1095785877\n",
        "\n",
        "\n",
        "## Quien soy?\n",
        "\n",
        "Arquitecto de Soluciones en BBVA.\n",
        "\n",
        "https://www.linkedin.com/in/ricardovegas/en\n",
        "  \n",
        "https://www.certmetrics.com/amazon/public/badge.aspx?i=1&t=c&d=2018-06-11&ci=AWS00443782\n",
        "\n",
        "https://twitter.com/ricardovegas\n",
        "\n",
        "https://github.com/rvegas\n",
        "\n",
        "\n",
        "\n",
        "### A que me dedico?\n",
        "\n",
        "- Micro servicios, big data\n",
        "- GO PYTHON\n",
        "\n",
        "\n",
        "## Que vamos a aprender?\n",
        "\n",
        "- Hadoop\n",
        "- Cassandra *\n",
        "- Crawling\n",
        "- Scrapping *\n",
        "- Cloud Architecture\n",
        "- Kafka *\n",
        "- RabbitMQ *\n",
        "- DATA\n",
        "\n",
        "\n",
        "## Que debe saber hacer un Big Data Architect?\n",
        "\n",
        "Benchmark systems, analyse system bottlenecks and propose solutions to eliminate them;  \n",
        "Articulate pros and cons of various technologies and platforms;  \n",
        "Document use cases, solutions and recommendations;  \n",
        "To have excellent written and verbal communication skills;  \n",
        "Explain the work in plain language;  \n",
        "Help program and project managers in the design, planning and governance of implementing projects of any kind;  \n",
        "Perform detailed analysis of business problems and technical environments and use this in designing the solution;  \n",
        "Work creatively and analytically in a problem-solving environment;  \n",
        "To be a self-starter;  \n",
        "Work in teams, as a big data environment is developed in a team of employees with different disciplines;  \n",
        "Work in a fast-paced agile development environment.  \n",
        "\n",
        "## Calendario\n",
        "\n",
        "### DIA 1\n",
        "\n",
        "- Intro y resumen del modulo\n",
        "- Instalar Hadoop con docker + trasteo docker\n",
        "- Teoria sobre Hadoop\n",
        "\n",
        "- Teoria sobre Data Lake\n",
        "- Teoria sobre HDFS\n",
        "- Teoria sobre Yarn\n",
        "- Teoria sobre Map Reduce\n",
        "\n",
        "### DIA 2\n",
        "\n",
        "- Repaso Dia 1 \n",
        "- Data Formats (Herramientas + Teoria)\n",
        "- Data Extraction (Xpath, JsonPath, etc) ejemplo practico logs\n",
        "\n",
        "- Scrapping + Crawling + API sniffing Teoria \n",
        "- ejemplo Scraping \n",
        "- ejemplo Crawling\n",
        "\n",
        "### DIA 3\n",
        "\n",
        "- Repaso Dia 2\n",
        "- Ronda abierta de dudas \n",
        "- Conectemos todo a nivel arquitectura\n",
        "- CLOUD!\n",
        "\n",
        "### DIA 4\n",
        "\n",
        "- Ronda abierta de preguntas y dudas semana anterior \n",
        "\n",
        "- Storage Teoria Arquitectura\n",
        "- Instalacion de Mongo Cassandra y Postgres (caching, clusters, etc)\n",
        "- Mongo vs Cassandra vs HBase practica queries\n",
        "\n",
        "### DIA 5-6\n",
        "\n",
        "- Bases de datos\n",
        "\n",
        "### DIA 7\n",
        "\n",
        "- Repaso Dia 4\n",
        "\n",
        "- Teoria de Streams \n",
        "- Instalacion y trasteo con KAFKA \n",
        "\n",
        "### DIA 8\n",
        "\n",
        "- Repaso general\n",
        "\n",
        "- Ronda de repaso general y preguntas\n",
        "- Zona abierta de contenido extra \n",
        "\n",
        "- Kill the Hype\n",
        "\n",
        "- Presentacion practicas, explicacion y resolucion de dudas.\n",
        "\n",
        "- Trabajo activo en las practicas conmigo alli, yo hare una version de la practica\n",
        "---\n",
        "\n"
      ]
    },
    {
      "cell_type": "markdown",
      "metadata": {
        "id": "eN-qS3kCTEmT",
        "colab_type": "text"
      },
      "source": [
        ""
      ]
    }
  ]
}