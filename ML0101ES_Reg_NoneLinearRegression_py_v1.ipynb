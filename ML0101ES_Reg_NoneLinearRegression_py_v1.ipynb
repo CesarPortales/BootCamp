{
  "nbformat": 4,
  "nbformat_minor": 0,
  "metadata": {
    "colab": {
      "name": "ML0101ES-Reg-NoneLinearRegression-py-v1.ipynb",
      "provenance": [],
      "authorship_tag": "ABX9TyObDZTwlAlKVhgyB9JhVDtW",
      "include_colab_link": true
    },
    "kernelspec": {
      "name": "python3",
      "display_name": "Python 3"
    },
    "accelerator": "GPU"
  },
  "cells": [
    {
      "cell_type": "markdown",
      "metadata": {
        "id": "view-in-github",
        "colab_type": "text"
      },
      "source": [
        "<a href=\"https://colab.research.google.com/github/CesarPortales/BootCamp/blob/master/ML0101ES_Reg_NoneLinearRegression_py_v1.ipynb\" target=\"_parent\"><img src=\"https://colab.research.google.com/assets/colab-badge.svg\" alt=\"Open In Colab\"/></a>"
      ]
    },
    {
      "cell_type": "code",
      "metadata": {
        "id": "Ij0bGKvVZ1es",
        "colab_type": "code",
        "colab": {}
      },
      "source": [
        ""
      ],
      "execution_count": 0,
      "outputs": []
    },
    {
      "cell_type": "markdown",
      "metadata": {
        "id": "rejQOqkVZ2w6",
        "colab_type": "text"
      },
      "source": [
        "<a href=\"https://www.bigdatauniversity.com\"><img src = \"https://ibm.box.com/shared/static/cw2c7r3o20w9zn8gkecaeyjhgw3xdgbj.png\" width = 400, align = \"center\"></a>\n",
        "# <center>Análisis de Regresión no Lineal</center>"
      ]
    },
    {
      "cell_type": "markdown",
      "metadata": {
        "id": "ytWZX6_waDEI",
        "colab_type": "text"
      },
      "source": [
        "Si los datos muestran tendencias curas, entonces la regresión lineal no producirá resultados muy exactos cuando se comparan con una regresión no lineal, porque, como su nombre lo indica, la regresión lineal sume que los datos son lineales. \n",
        "Aprendamos sobre regresiones no lineales y apliquemos un ejemplo en python. En este lab, conectaremos un modelo no lineal con los puntos de tendencia correspondientes al GDP de China entre los años 1960 y 2014."
      ]
    },
    {
      "cell_type": "code",
      "metadata": {
        "id": "6HOAtiU7aD0_",
        "colab_type": "code",
        "colab": {}
      },
      "source": [
        "import numpy as np\n",
        "import matplotlib.pyplot as plt\n",
        "%matplotlib inline"
      ],
      "execution_count": 0,
      "outputs": []
    },
    {
      "cell_type": "markdown",
      "metadata": {
        "id": "6Vpz3gbNaRTH",
        "colab_type": "text"
      },
      "source": [
        "Aunque la regresión lineal es muy buena para resolver varios problemas, no puede utilizarse en todos los sets de datos. Primero, recordemos cómo funciona la regresión lineal, se podría modelar un set de datos. Modelar una relación lineal entre una variable dependiente y una variable independiente x, tendría una simple ecuación de grado 1, por ejemplo y = 2*(x) + 3."
      ]
    },
    {
      "cell_type": "code",
      "metadata": {
        "id": "1oI2sO72aSH2",
        "colab_type": "code",
        "outputId": "58dcc1f7-92dc-423d-81a7-9fb08a21d22a",
        "colab": {
          "base_uri": "https://localhost:8080/",
          "height": 279
        }
      },
      "source": [
        "x = np.arange(-5.0, 5.0, 0.1)\n",
        "\n",
        "##Se puede ajustar la pendiente y la intersección para verificar los cambios en el gráfico\n",
        "y = 2*(x) + 3\n",
        "y_noise = 2 * np.random.normal(size=x.size)\n",
        "ydata = y + y_noise\n",
        "#plt.figure(figsize=(8,6))\n",
        "plt.plot(x, ydata,  'bo')\n",
        "plt.plot(x,y, 'r') \n",
        "plt.ylabel('Variable dependiente')\n",
        "plt.xlabel('Variable independiente')\n",
        "plt.show()"
      ],
      "execution_count": 2,
      "outputs": [
        {
          "output_type": "display_data",
          "data": {
            "image/png": "[encoded data removed]",
            "text/plain": [
              "<Figure size 432x288 with 1 Axes>"
            ]
          },
          "metadata": {
            "tags": []
          }
        }
      ]
    },
    {
      "cell_type": "markdown",
      "metadata": {
        "id": "GVNCAM82atTf",
        "colab_type": "text"
      },
      "source": [
        "Las regresiones no-lineales son una relación entre variables independientes $x$ y una variable dependiente $y$ que resulta en una función no lineal. Básicamente, cada relación que no es lineal puede transformarse en una no lineal, y generalmente se representa con el polinomio de grados $k$ (potencia máxima de $x$). \n",
        "\n",
        "$$ \\ y = a x^3 + b x^2 + c x + d \\ $$\n",
        "\n",
        "Las funciones no lineales pueden tener elementos como exponentes, logaritmos, fracciones y otros. Por ejemplo: $$ y = \\log(x)$$\n",
        "    \n",
        "O más complicados, como :\n",
        "$$ y = \\log(a x^3 + b x^2 + c x + d)$$"
      ]
    },
    {
      "cell_type": "markdown",
      "metadata": {
        "id": "787hnbZ6a0nE",
        "colab_type": "text"
      },
      "source": [
        "Miremos el gráfico de la función cúbica."
      ]
    },
    {
      "cell_type": "code",
      "metadata": {
        "id": "WHAkyE1waXIG",
        "colab_type": "code",
        "outputId": "96454124-045e-4e15-c6f6-b389ef477cca",
        "colab": {
          "base_uri": "https://localhost:8080/",
          "height": 279
        }
      },
      "source": [
        "x = np.arange(-5.0, 5.0, 0.1)\n",
        "\n",
        "##Puede ajustar la pendiente y la intersección para verificar los cambios del gráfico\n",
        "y = 1*(x**3) + 1*(x**2) + 1*x + 3\n",
        "y_noise = 20 * np.random.normal(size=x.size)\n",
        "ydata = y + y_noise\n",
        "plt.plot(x, ydata,  'bo')\n",
        "plt.plot(x,y, 'r') \n",
        "plt.ylabel('Variable dependiente')\n",
        "plt.xlabel('Variable indepdendiente')\n",
        "plt.show()"
      ],
      "execution_count": 3,
      "outputs": [
        {
          "output_type": "display_data",
          "data": {
            "image/png": "[encoded data removed]",
            "text/plain": [
              "<Figure size 432x288 with 1 Axes>"
            ]
          },
          "metadata": {
            "tags": []
          }
        }
      ]
    },
    {
      "cell_type": "markdown",
      "metadata": {
        "id": "Lj2z4zXba6n2",
        "colab_type": "text"
      },
      "source": [
        "Como se puede ver, esta función tiene $x^3$ y $x^2$ como variables independientes. También, el gráfico de esta función no es una linea directa, por lo que es una función no lineal."
      ]
    },
    {
      "cell_type": "markdown",
      "metadata": {
        "id": "pgN8QzlPa-w-",
        "colab_type": "text"
      },
      "source": [
        "Algunas otras funciones no lineales son:"
      ]
    },
    {
      "cell_type": "code",
      "metadata": {
        "id": "8yqUYlCeayX3",
        "colab_type": "code",
        "colab": {}
      },
      "source": [
        "### Cuadrática"
      ],
      "execution_count": 0,
      "outputs": []
    },
    {
      "cell_type": "markdown",
      "metadata": {
        "id": "3mCZUrZWbE3l",
        "colab_type": "text"
      },
      "source": [
        "### Cuadrática\n",
        "$$ Y = X^2 $$"
      ]
    },
    {
      "cell_type": "code",
      "metadata": {
        "id": "6o-4RkcXbFkK",
        "colab_type": "code",
        "outputId": "59346807-8109-44bc-f48d-fca54a62610e",
        "colab": {
          "base_uri": "https://localhost:8080/",
          "height": 279
        }
      },
      "source": [
        "x = np.arange(-5.0, 5.0, 0.1)\n",
        "\n",
        "##Se puede ajustar la pendiente y la intersección para verificar los cambios en el gráfico\n",
        "\n",
        "y = np.power(x,2)\n",
        "y_noise = 2 * np.random.normal(size=x.size)\n",
        "ydata = y + y_noise\n",
        "plt.plot(x, ydata,  'bo')\n",
        "plt.plot(x,y, 'r') \n",
        "plt.ylabel('Variable dependiente')\n",
        "plt.xlabel('Variable indepdiendente')\n",
        "plt.show()"
      ],
      "execution_count": 5,
      "outputs": [
        {
          "output_type": "display_data",
          "data": {
            "image/png": "[encoded data removed]",
            "text/plain": [
              "<Figure size 432x288 with 1 Axes>"
            ]
          },
          "metadata": {
            "tags": []
          }
        }
      ]
    },
    {
      "cell_type": "markdown",
      "metadata": {
        "id": "Zpmc_qKDbMKf",
        "colab_type": "text"
      },
      "source": [
        "### Exponencial"
      ]
    },
    {
      "cell_type": "markdown",
      "metadata": {
        "id": "9ddsq430bPJx",
        "colab_type": "text"
      },
      "source": [
        "Una función exponencial con base c se define por $$ Y = a + b c^X$$ donde b ≠0, c > 0 , c ≠1, y x es cualquier número real. La base, c, es constante y el exponente, x, es una variable. \n"
      ]
    },
    {
      "cell_type": "code",
      "metadata": {
        "id": "nNah8cjrbJRO",
        "colab_type": "code",
        "outputId": "ad599e87-38a0-4049-ca37-ac9cc032bc7e",
        "colab": {
          "base_uri": "https://localhost:8080/",
          "height": 282
        }
      },
      "source": [
        "X = np.arange(-5.0, 5.0, 0.1)\n",
        "\n",
        "##Se puede ajustar la pendiente y la intersección para verificar los cambios en el gráfico\n",
        "\n",
        "Y= np.exp(X)\n",
        "\n",
        "plt.plot(X,Y) \n",
        "plt.ylabel('Variable Dependiente')\n",
        "plt.xlabel('Variable Independiente')\n",
        "plt.show()"
      ],
      "execution_count": 6,
      "outputs": [
        {
          "output_type": "display_data",
          "data": {
            "image/png": "[encoded data removed]",
            "text/plain": [
              "<Figure size 432x288 with 1 Axes>"
            ]
          },
          "metadata": {
            "tags": []
          }
        }
      ]
    },
    {
      "cell_type": "markdown",
      "metadata": {
        "id": "dru2CmI4bWW3",
        "colab_type": "text"
      },
      "source": [
        "### Logarítmico\n",
        "\n",
        "La respuesta $y$ es el resultado de aplicar el mapa logarítmico desde el valor de entrada de $x$ a la variable de salida $y$. Es una de las formas más simples de __log()__: i.e. $$ y = \\log(x)$$\n",
        "\n",
        "Favor, considerar que en vez de $x$, podemos usar $X$, el cual puede ser una representación polinomial de las $x$'s. En su forma general, se escribiría como  \n",
        "\\begin{equation}\n",
        "y = \\log(X)\n",
        "\\end{equation}"
      ]
    },
    {
      "cell_type": "code",
      "metadata": {
        "id": "zYvYVXGfbTPg",
        "colab_type": "code",
        "outputId": "ec85e6a0-6bd7-4ff4-f09c-61186a74bfc7",
        "colab": {
          "base_uri": "https://localhost:8080/",
          "height": 313
        }
      },
      "source": [
        "X = np.arange(-5.0, 5.0, 0.1)\n",
        "\n",
        "Y = np.log(X)\n",
        "\n",
        "plt.plot(X,Y) \n",
        "plt.ylabel('Variable Dependiente')\n",
        "plt.xlabel('Variable Independiente')\n",
        "plt.show()"
      ],
      "execution_count": 7,
      "outputs": [
        {
          "output_type": "stream",
          "text": [
            "/usr/local/lib/python3.6/dist-packages/ipykernel_launcher.py:3: RuntimeWarning: invalid value encountered in log\n",
            "  This is separate from the ipykernel package so we can avoid doing imports until\n"
          ],
          "name": "stderr"
        },
        {
          "output_type": "display_data",
          "data": {
            "image/png": "[encoded data removed]",
            "text/plain": [
              "<Figure size 432x288 with 1 Axes>"
            ]
          },
          "metadata": {
            "tags": []
          }
        }
      ]
    },
    {
      "cell_type": "markdown",
      "metadata": {
        "id": "LV160A5Rbc2w",
        "colab_type": "text"
      },
      "source": [
        "### Sigmoidal/Logística"
      ]
    },
    {
      "cell_type": "markdown",
      "metadata": {
        "id": "pu6wxNerbiTp",
        "colab_type": "text"
      },
      "source": [
        "$$ Y = a + \\frac{b}{1+ c^{(X-d)}}$$"
      ]
    },
    {
      "cell_type": "code",
      "metadata": {
        "id": "-4WWMESXbgwE",
        "colab_type": "code",
        "outputId": "914e6f31-4acf-41f5-8802-67e6e4d73709",
        "colab": {
          "base_uri": "https://localhost:8080/",
          "height": 282
        }
      },
      "source": [
        "X = np.arange(-5.0, 5.0, 0.1)\n",
        "\n",
        "\n",
        "Y = 1-4/(1+np.power(3, X-2))\n",
        "\n",
        "plt.plot(X,Y) \n",
        "plt.ylabel('Variable Dependiente')\n",
        "plt.xlabel('Variable Independiente')\n",
        "plt.show()"
      ],
      "execution_count": 8,
      "outputs": [
        {
          "output_type": "display_data",
          "data": {
            "image/png": "[encoded data removed]",
            "text/plain": [
              "<Figure size 432x288 with 1 Axes>"
            ]
          },
          "metadata": {
            "tags": []
          }
        }
      ]
    },
    {
      "cell_type": "markdown",
      "metadata": {
        "id": "94BhWGw_bpsh",
        "colab_type": "text"
      },
      "source": [
        "<a id=\"ref2\"></a>\n",
        "# Ejemplo de Regresión No-Lineal"
      ]
    },
    {
      "cell_type": "markdown",
      "metadata": {
        "id": "gMw7MvgDbt_K",
        "colab_type": "text"
      },
      "source": [
        "Por ejemplo, intentaremos fijar un modelo no lineal a los puntos correspondientes al GDP de China entre los años 1960 y 2014. Descargaremos un set de datos con dos columnas, la primera, un año entre 1960 y 2014, la segunda, el ingreso anual de China en dólares estadounidenses para ese año. "
      ]
    },
    {
      "cell_type": "code",
      "metadata": {
        "id": "PVI4SqA4budw",
        "colab_type": "code",
        "colab": {
          "base_uri": "https://localhost:8080/",
          "height": 376
        },
        "outputId": "45a5c065-73be-4d8a-eaec-6df5a2b887c0"
      },
      "source": [
        "import numpy as np\n",
        "import pandas as pd\n",
        "\n",
        "#downloading dataset\n",
        "!wget -nv -O china_gdp.csv https://s3-api.us-geo.objectstorage.softlayer.net/cf-courses-data/CognitiveClass/ML0101ENv3/labs/china_gdp.csv\n",
        "    \n",
        "df = pd.read_csv(\"china_gdp.csv\")\n",
        "df.head(10)"
      ],
      "execution_count": 9,
      "outputs": [
        {
          "output_type": "stream",
          "text": [
            "2020-02-27 16:24:25 URL:https://s3-api.us-geo.objectstorage.softlayer.net/cf-courses-data/CognitiveClass/ML0101ENv3/labs/china_gdp.csv [1218/1218] -> \"china_gdp.csv\" [1]\n"
          ],
          "name": "stdout"
        },
        {
          "output_type": "execute_result",
          "data": {
            "text/html": [
              "<div>\n",
              "<style scoped>\n",
              "    .dataframe tbody tr th:only-of-type {\n",
              "        vertical-align: middle;\n",
              "    }\n",
              "\n",
              "    .dataframe tbody tr th {\n",
              "        vertical-align: top;\n",
              "    }\n",
              "\n",
              "    .dataframe thead th {\n",
              "        text-align: right;\n",
              "    }\n",
              "</style>\n",
              "<table border=\"1\" class=\"dataframe\">\n",
              "  <thead>\n",
              "    <tr style=\"text-align: right;\">\n",
              "      <th></th>\n",
              "      <th>Year</th>\n",
              "      <th>Value</th>\n",
              "    </tr>\n",
              "  </thead>\n",
              "  <tbody>\n",
              "    <tr>\n",
              "      <th>0</th>\n",
              "      <td>1960</td>\n",
              "      <td>5.918412e+10</td>\n",
              "    </tr>\n",
              "    <tr>\n",
              "      <th>1</th>\n",
              "      <td>1961</td>\n",
              "      <td>4.955705e+10</td>\n",
              "    </tr>\n",
              "    <tr>\n",
              "      <th>2</th>\n",
              "      <td>1962</td>\n",
              "      <td>4.668518e+10</td>\n",
              "    </tr>\n",
              "    <tr>\n",
              "      <th>3</th>\n",
              "      <td>1963</td>\n",
              "      <td>5.009730e+10</td>\n",
              "    </tr>\n",
              "    <tr>\n",
              "      <th>4</th>\n",
              "      <td>1964</td>\n",
              "      <td>5.906225e+10</td>\n",
              "    </tr>\n",
              "    <tr>\n",
              "      <th>5</th>\n",
              "      <td>1965</td>\n",
              "      <td>6.970915e+10</td>\n",
              "    </tr>\n",
              "    <tr>\n",
              "      <th>6</th>\n",
              "      <td>1966</td>\n",
              "      <td>7.587943e+10</td>\n",
              "    </tr>\n",
              "    <tr>\n",
              "      <th>7</th>\n",
              "      <td>1967</td>\n",
              "      <td>7.205703e+10</td>\n",
              "    </tr>\n",
              "    <tr>\n",
              "      <th>8</th>\n",
              "      <td>1968</td>\n",
              "      <td>6.999350e+10</td>\n",
              "    </tr>\n",
              "    <tr>\n",
              "      <th>9</th>\n",
              "      <td>1969</td>\n",
              "      <td>7.871882e+10</td>\n",
              "    </tr>\n",
              "  </tbody>\n",
              "</table>\n",
              "</div>"
            ],
            "text/plain": [
              "   Year         Value\n",
              "0  1960  5.918412e+10\n",
              "1  1961  4.955705e+10\n",
              "2  1962  4.668518e+10\n",
              "3  1963  5.009730e+10\n",
              "4  1964  5.906225e+10\n",
              "5  1965  6.970915e+10\n",
              "6  1966  7.587943e+10\n",
              "7  1967  7.205703e+10\n",
              "8  1968  6.999350e+10\n",
              "9  1969  7.871882e+10"
            ]
          },
          "metadata": {
            "tags": []
          },
          "execution_count": 9
        }
      ]
    },
    {
      "cell_type": "code",
      "metadata": {
        "id": "uqar9zJVdpAY",
        "colab_type": "code",
        "colab": {}
      },
      "source": [
        "### Marcando el set de datos ###\n",
        "Asi es como los puntos de datos se ven. Se parece a una función lógica o exponencial. El crecimiento es leve, luego a partir de 2005 en adelante, el crecimiento ya es más notorio. Y finalmente, desacelera suavemente a principio del año 2010."
      ],
      "execution_count": 0,
      "outputs": []
    },
    {
      "cell_type": "markdown",
      "metadata": {
        "id": "DkPrRgtSdu5p",
        "colab_type": "text"
      },
      "source": [
        "### Marcando el set de datos ###\n",
        "Asi es como los puntos de datos se ven. Se parece a una función lógica o exponencial. El crecimiento es leve, luego a partir de 2005 en adelante, el crecimiento ya es más notorio. Y finalmente, desacelera suavemente a principio del año 2010."
      ]
    },
    {
      "cell_type": "code",
      "metadata": {
        "id": "plpmUSVodv0X",
        "colab_type": "code",
        "colab": {
          "base_uri": "https://localhost:8080/",
          "height": 345
        },
        "outputId": "679bd90a-7f85-4b4d-d24c-6db2acc1c96d"
      },
      "source": [
        "plt.figure(figsize=(8,5))\n",
        "x_data, y_data = (df[\"Year\"].values, df[\"Value\"].values)\n",
        "plt.plot(x_data, y_data, 'ro')\n",
        "plt.ylabel('GDP')\n",
        "plt.xlabel('Year')\n",
        "plt.show()"
      ],
      "execution_count": 10,
      "outputs": [
        {
          "output_type": "display_data",
          "data": {
            "image/png": "[encoded data removed]",
            "text/plain": [
              "<Figure size 576x360 with 1 Axes>"
            ]
          },
          "metadata": {
            "tags": []
          }
        }
      ]
    },
    {
      "cell_type": "markdown",
      "metadata": {
        "id": "TsIvav4leEU6",
        "colab_type": "text"
      },
      "source": [
        "### Eligiendo un modelo ###\n",
        "\n",
        "A primera vista, determinamos que la función lógica podría ser una buena primera aproximación,\n",
        "ya que tiene la propiedad de comenzar con un crecimiento leve, aumentando en el medio y luego descendiendo nuevamente hacia el final; como se ve debajo:"
      ]
    },
    {
      "cell_type": "code",
      "metadata": {
        "id": "9MaH_-mid0OX",
        "colab_type": "code",
        "colab": {
          "base_uri": "https://localhost:8080/",
          "height": 279
        },
        "outputId": "be36af11-9d83-464f-b1b5-46f10d56c6f4"
      },
      "source": [
        "X = np.arange(-5.0, 5.0, 0.1)\n",
        "Y = 1.0 / (1.0 + np.exp(-X))\n",
        "\n",
        "plt.plot(X,Y) \n",
        "plt.ylabel('Variable Dependiente')\n",
        "plt.xlabel('Variable Independiente')\n",
        "plt.show()"
      ],
      "execution_count": 11,
      "outputs": [
        {
          "output_type": "display_data",
          "data": {
            "image/png": "[encoded data removed]",
            "text/plain": [
              "<Figure size 432x288 with 1 Axes>"
            ]
          },
          "metadata": {
            "tags": []
          }
        }
      ]
    },
    {
      "cell_type": "markdown",
      "metadata": {
        "id": "NrpVeMaleKMD",
        "colab_type": "text"
      },
      "source": [
        "\n",
        "\n",
        "La fórumla para la función logística es la siguiente:\n",
        "\n",
        "$$ \\hat{Y} = \\frac1{1+e^{\\beta_1(X-\\beta_2)}}$$\n",
        "\n",
        "$\\beta_1$: Controla lo llano de la curva,\n",
        "\n",
        "$\\beta_2$: Lleva la curva sobre el eje x."
      ]
    },
    {
      "cell_type": "markdown",
      "metadata": {
        "id": "rs9zv_koeN_K",
        "colab_type": "text"
      },
      "source": [
        "### Construyendo el Modelo ###\n",
        "Ahora, construyamos nuestro modelo de regresión e inicialicemos sus parámetros. "
      ]
    },
    {
      "cell_type": "code",
      "metadata": {
        "id": "-eZAhx4Xd_Ud",
        "colab_type": "code",
        "colab": {}
      },
      "source": [
        "def sigmoid(x, Beta_1, Beta_2):\n",
        "     y = 1 / (1 + np.exp(-Beta_1*(x-Beta_2)))\n",
        "     return y"
      ],
      "execution_count": 0,
      "outputs": []
    },
    {
      "cell_type": "markdown",
      "metadata": {
        "id": "eAqzB5nDeZcL",
        "colab_type": "text"
      },
      "source": [
        "Aquí, un ejemplo sigmoide que podría cuadrar con los datos:"
      ]
    },
    {
      "cell_type": "code",
      "metadata": {
        "id": "ApKsRwsOeRa-",
        "colab_type": "code",
        "colab": {
          "base_uri": "https://localhost:8080/",
          "height": 293
        },
        "outputId": "04e5b21e-fa90-4506-9254-b31cb209d9b6"
      },
      "source": [
        "beta_1 = 0.10\n",
        "beta_2 = 1990.0\n",
        "\n",
        "#función logística\n",
        "Y_pred = sigmoid(x_data, beta_1 , beta_2)\n",
        "\n",
        "#predicción de puntos\n",
        "plt.plot(x_data, Y_pred*15000000000000.)\n",
        "plt.plot(x_data, y_data, 'ro')"
      ],
      "execution_count": 13,
      "outputs": [
        {
          "output_type": "execute_result",
          "data": {
            "text/plain": [
              "[<matplotlib.lines.Line2D at 0x7f0ebef55358>]"
            ]
          },
          "metadata": {
            "tags": []
          },
          "execution_count": 13
        },
        {
          "output_type": "display_data",
          "data": {
            "image/png": "[encoded data removed]",
            "text/plain": [
              "<Figure size 432x288 with 1 Axes>"
            ]
          },
          "metadata": {
            "tags": []
          }
        }
      ]
    },
    {
      "cell_type": "markdown",
      "metadata": {
        "id": "DDzo00hOeknK",
        "colab_type": "text"
      },
      "source": [
        "Nuestra tarea aquí es encontrar los mejores parámetros para nuestro modelo. Normalicemos primero nuestro x e y:"
      ]
    },
    {
      "cell_type": "code",
      "metadata": {
        "id": "SZNlZCUceU4_",
        "colab_type": "code",
        "colab": {}
      },
      "source": [
        "# Normalicemos nuestros datos\n",
        "xdata =x_data/max(x_data)\n",
        "ydata =y_data/max(y_data)"
      ],
      "execution_count": 0,
      "outputs": []
    },
    {
      "cell_type": "markdown",
      "metadata": {
        "id": "Zwv3THIUes0M",
        "colab_type": "text"
      },
      "source": [
        "#### ¿Cómo podemos encontrar los mejores parámetros para nuestra linea?\n",
        "podemos utilizar __curve_fit__ la cual utiliza cuadrados mínimos no lineales para cuadrar con la función sigmoide. Los valores óptimos para los parámetros que suman los residuos cuadrados de sigmoid(xdata, *popt) - ydata minimizado.\n",
        "\n",
        "popt son nuestros parámetros optimizados."
      ]
    },
    {
      "cell_type": "code",
      "metadata": {
        "id": "0XQJI_2zete6",
        "colab_type": "code",
        "colab": {
          "base_uri": "https://localhost:8080/",
          "height": 34
        },
        "outputId": "58dd198a-333b-47b5-eea4-60bf1469df93"
      },
      "source": [
        "from scipy.optimize import curve_fit\n",
        "popt, pcov = curve_fit(sigmoid, xdata, ydata)\n",
        "#imprimir los parámetros finales\n",
        "print(\" beta_1 = %f, beta_2 = %f\" % (popt[0], popt[1]))"
      ],
      "execution_count": 15,
      "outputs": [
        {
          "output_type": "stream",
          "text": [
            " beta_1 = 690.453017, beta_2 = 0.997207\n"
          ],
          "name": "stdout"
        }
      ]
    },
    {
      "cell_type": "markdown",
      "metadata": {
        "id": "5cAhQl-Ge2vu",
        "colab_type": "text"
      },
      "source": [
        "Ahora dibujamos nuestro modelo de regresión."
      ]
    },
    {
      "cell_type": "code",
      "metadata": {
        "id": "uGwvWYn0exaD",
        "colab_type": "code",
        "colab": {
          "base_uri": "https://localhost:8080/",
          "height": 334
        },
        "outputId": "014f8b70-0419-4950-c691-4ac0c46085d3"
      },
      "source": [
        "x = np.linspace(1960, 2015, 55)\n",
        "x = x/max(x)\n",
        "plt.figure(figsize=(8,5))\n",
        "y = sigmoid(x, *popt)\n",
        "plt.plot(xdata, ydata, 'ro', label='data')\n",
        "plt.plot(x,y, linewidth=3.0, label='fit')\n",
        "plt.legend(loc='best')\n",
        "plt.ylabel('GDP')\n",
        "plt.xlabel('Year')\n",
        "plt.show()"
      ],
      "execution_count": 16,
      "outputs": [
        {
          "output_type": "display_data",
          "data": {
            "image/png": "[encoded data removed]",
            "text/plain": [
              "<Figure size 576x360 with 1 Axes>"
            ]
          },
          "metadata": {
            "tags": []
          }
        }
      ]
    },
    {
      "cell_type": "markdown",
      "metadata": {
        "id": "Z8WseDPTfVNq",
        "colab_type": "text"
      },
      "source": [
        "¿Puedes calcular cual es la exactitud de nuestro modelo?"
      ]
    },
    {
      "cell_type": "code",
      "metadata": {
        "id": "BNFsc0roe6lz",
        "colab_type": "code",
        "colab": {
          "base_uri": "https://localhost:8080/",
          "height": 68
        },
        "outputId": "ff68a757-ff91-45f7-a270-fa34bf1de32b"
      },
      "source": [
        "# divide los datos en entrenamiento y prueba\n",
        "msk = np.random.rand(len(df)) < 0.8\n",
        "train_x = xdata[msk]\n",
        "test_x = xdata[~msk]\n",
        "train_y = ydata[msk]\n",
        "test_y = ydata[~msk]\n",
        "\n",
        "# construye el modelo utilizando el set de entrenamiento\n",
        "popt, pcov = curve_fit(sigmoid, train_x, train_y)\n",
        "\n",
        "# predecir utilizando el set de prueba\n",
        "y_hat = sigmoid(test_x, *popt)\n",
        "\n",
        "# evaluation\n",
        "print(\"Promedio de error absoluto: %.2f\" % np.mean(np.absolute(y_hat - test_y)))\n",
        "print(\"Suma residual de cuadrados (MSE): %.2f\" % np.mean((y_hat - test_y) ** 2))\n",
        "from sklearn.metrics import r2_score\n",
        "print(\"R2-score: %.2f\" % r2_score(y_hat , test_y) )\n"
      ],
      "execution_count": 17,
      "outputs": [
        {
          "output_type": "stream",
          "text": [
            "Promedio de error absoluto: 0.03\n",
            "Suma residual de cuadrados (MSE): 0.00\n",
            "R2-score: 0.96\n"
          ],
          "name": "stdout"
        }
      ]
    },
    {
      "cell_type": "code",
      "metadata": {
        "id": "9LtQkLSCfGM_",
        "colab_type": "code",
        "colab": {}
      },
      "source": [
        ""
      ],
      "execution_count": 0,
      "outputs": []
    }
  ]
}